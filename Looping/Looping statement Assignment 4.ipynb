{
 "cells": [
  {
   "cell_type": "markdown",
   "id": "5c3bc926",
   "metadata": {},
   "source": [
    "### Write a Program to print the Number Pattern using a Loop."
   ]
  },
  {
   "cell_type": "markdown",
   "id": "9be1fd8c",
   "metadata": {},
   "source": [
    "### A) Half pyramid pattern of numbers."
   ]
  },
  {
   "cell_type": "code",
   "execution_count": 20,
   "id": "203e12f7",
   "metadata": {},
   "outputs": [
    {
     "name": "stdout",
     "output_type": "stream",
     "text": [
      "1 \n",
      "1 2 \n",
      "1 2 3 \n",
      "1 2 3 4 \n",
      "1 2 3 4 5 \n",
      "1 2 3 4 5 6 \n"
     ]
    }
   ],
   "source": [
    "for i in range(1, r + 1):\n",
    "    for j in range(1, i + 1):\n",
    "        print(j, end=' ')\n",
    "    print('')"
   ]
  },
  {
   "cell_type": "markdown",
   "id": "de9b9aa3",
   "metadata": {},
   "source": [
    "### B) Simple number pattern"
   ]
  },
  {
   "cell_type": "code",
   "execution_count": 10,
   "id": "08d3347f",
   "metadata": {},
   "outputs": [
    {
     "name": "stdout",
     "output_type": "stream",
     "text": [
      "\n",
      "1 \n",
      "2 2 \n",
      "3 3 3 \n",
      "4 4 4 4 \n",
      "5 5 5 5 5 \n",
      "6 6 6 6 6 6 \n"
     ]
    }
   ],
   "source": [
    "for i in range(i+1):\n",
    "    for j in range(i):\n",
    "        print(i, end=\" \")\n",
    "    print()"
   ]
  },
  {
   "cell_type": "markdown",
   "id": "10f60bd9",
   "metadata": {},
   "source": [
    "### C) Reverse Number Pattern"
   ]
  },
  {
   "cell_type": "code",
   "execution_count": 43,
   "id": "90c114cd",
   "metadata": {},
   "outputs": [
    {
     "name": "stdout",
     "output_type": "stream",
     "text": [
      "5 4 3 2 1 \n",
      "4 3 2 1 \n",
      "3 2 1 \n",
      "2 1 \n",
      "1 \n",
      "\n"
     ]
    }
   ],
   "source": [
    "rows = 5\n",
    "for i in range(0, rows + 1):\n",
    "    for j in range(rows - i, 0, -1):\n",
    "        print(j, end=' ')\n",
    "    print()"
   ]
  },
  {
   "cell_type": "markdown",
   "id": "61db4683",
   "metadata": {},
   "source": [
    "### D) Inverted half pyramid pattern with number "
   ]
  },
  {
   "cell_type": "code",
   "execution_count": 42,
   "id": "4c561a46",
   "metadata": {},
   "outputs": [
    {
     "name": "stdout",
     "output_type": "stream",
     "text": [
      "1 2 3 4 5 \n",
      "1 2 3 4 \n",
      "1 2 3 \n",
      "1 2 \n",
      "1 \n"
     ]
    }
   ],
   "source": [
    "r=5\n",
    "for i in range(r , 0 , -1):\n",
    "    for j in range(1,  i + 1):\n",
    "        print(j, end=' ')\n",
    "    print('')"
   ]
  },
  {
   "cell_type": "markdown",
   "id": "3a32ba1f",
   "metadata": {},
   "source": [
    "### E) Reverse Number Pattern"
   ]
  },
  {
   "cell_type": "code",
   "execution_count": 30,
   "id": "f6bcb4b3",
   "metadata": {},
   "outputs": [
    {
     "name": "stdout",
     "output_type": "stream",
     "text": [
      "5 4 3 2 1 \n",
      "4 3 2 1 \n",
      "3 2 1 \n",
      "2 1 \n",
      "1 \n",
      "\n"
     ]
    }
   ],
   "source": [
    "r = 5\n",
    "for i in range(0, r + 1):\n",
    "    for j in range(rows - i, 0, -1):\n",
    "        print(j, end=' ')\n",
    "    print()"
   ]
  }
 ],
 "metadata": {
  "kernelspec": {
   "display_name": "Python 3 (ipykernel)",
   "language": "python",
   "name": "python3"
  },
  "language_info": {
   "codemirror_mode": {
    "name": "ipython",
    "version": 3
   },
   "file_extension": ".py",
   "mimetype": "text/x-python",
   "name": "python",
   "nbconvert_exporter": "python",
   "pygments_lexer": "ipython3",
   "version": "3.9.12"
  }
 },
 "nbformat": 4,
 "nbformat_minor": 5
}
