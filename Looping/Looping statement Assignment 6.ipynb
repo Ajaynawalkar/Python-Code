{
 "cells": [
  {
   "cell_type": "markdown",
   "id": "25b78689",
   "metadata": {},
   "source": [
    "# Write a Program to print Alphabet Pattern Using loop"
   ]
  },
  {
   "cell_type": "markdown",
   "id": "8c7dc936",
   "metadata": {},
   "source": [
    "## A)"
   ]
  },
  {
   "cell_type": "code",
   "execution_count": 3,
   "id": "e2f30be3",
   "metadata": {},
   "outputs": [
    {
     "name": "stdout",
     "output_type": "stream",
     "text": [
      "A \n",
      "A B \n",
      "A B C \n",
      "A B C D \n",
      "A B C D E \n"
     ]
    }
   ],
   "source": [
    "for i in range(5):\n",
    "    for j in range(i+1):\n",
    "        print(chr(65+j), end=\" \")\n",
    "    print()"
   ]
  },
  {
   "cell_type": "markdown",
   "id": "a2ec8863",
   "metadata": {},
   "source": [
    "## B)"
   ]
  },
  {
   "cell_type": "code",
   "execution_count": 4,
   "id": "5bd41d34",
   "metadata": {},
   "outputs": [
    {
     "name": "stdout",
     "output_type": "stream",
     "text": [
      "A \n",
      "B B \n",
      "C C C \n",
      "D D D D \n",
      "E E E E E \n"
     ]
    }
   ],
   "source": [
    "for i in range(5):\n",
    "    for j in range(i+1):\n",
    "        print(chr(65+i), end=\" \")\n",
    "    print()"
   ]
  },
  {
   "cell_type": "markdown",
   "id": "341b7fa7",
   "metadata": {},
   "source": [
    "## C)"
   ]
  },
  {
   "cell_type": "code",
   "execution_count": 8,
   "id": "d240ef70",
   "metadata": {},
   "outputs": [
    {
     "name": "stdout",
     "output_type": "stream",
     "text": [
      "A B C D E \n",
      "A B C D \n",
      "A B C \n",
      "A B \n",
      "A \n"
     ]
    }
   ],
   "source": [
    "for i in range(70,65,-1):\n",
    "    for j in range(65,i):\n",
    "        print(chr(j), end=\" \")\n",
    "    print()\n",
    "        "
   ]
  },
  {
   "cell_type": "markdown",
   "id": "5a568195",
   "metadata": {},
   "source": [
    "## D)"
   ]
  },
  {
   "cell_type": "code",
   "execution_count": 57,
   "id": "98e90ab7",
   "metadata": {},
   "outputs": [
    {
     "name": "stdout",
     "output_type": "stream",
     "text": [
      "F F F F F \n",
      "E E E E \n",
      "D D D \n",
      "C C \n",
      "B \n"
     ]
    }
   ],
   "source": [
    "for i in range(70,65,-1):\n",
    "    for j in range(65,i):\n",
    "        print(chr(i), end=\" \")\n",
    "    print()"
   ]
  },
  {
   "cell_type": "code",
   "execution_count": null,
   "id": "86859407",
   "metadata": {},
   "outputs": [],
   "source": []
  }
 ],
 "metadata": {
  "kernelspec": {
   "display_name": "Python 3 (ipykernel)",
   "language": "python",
   "name": "python3"
  },
  "language_info": {
   "codemirror_mode": {
    "name": "ipython",
    "version": 3
   },
   "file_extension": ".py",
   "mimetype": "text/x-python",
   "name": "python",
   "nbconvert_exporter": "python",
   "pygments_lexer": "ipython3",
   "version": "3.9.12"
  }
 },
 "nbformat": 4,
 "nbformat_minor": 5
}
