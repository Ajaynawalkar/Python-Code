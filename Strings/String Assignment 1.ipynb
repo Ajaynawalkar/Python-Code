{
 "cells": [
  {
   "cell_type": "markdown",
   "id": "10a2bb54",
   "metadata": {},
   "source": [
    "### Q1) Write a Program to Calculate length of a String"
   ]
  },
  {
   "cell_type": "code",
   "execution_count": 2,
   "id": "8c629685",
   "metadata": {},
   "outputs": [
    {
     "name": "stdout",
     "output_type": "stream",
     "text": [
      "Enter a String : 13\n",
      "Lenght of string 2\n"
     ]
    }
   ],
   "source": [
    "str=input(\"Enter a String : \")\n",
    "count = 0\n",
    "for s in str:\n",
    "    count=count+1\n",
    "print(\"Lenght of string\", count)"
   ]
  },
  {
   "cell_type": "markdown",
   "id": "9cf6cf25",
   "metadata": {},
   "source": [
    "### Q2) Write a program to count the number of characters in a String."
   ]
  },
  {
   "cell_type": "code",
   "execution_count": 1,
   "id": "d3933c12",
   "metadata": {},
   "outputs": [
    {
     "name": "stdout",
     "output_type": "stream",
     "text": [
      "Enter a Characters : Ajay Nawalkar\n",
      "Number of string 13\n"
     ]
    }
   ],
   "source": [
    "str=input(\"Enter a Characters : \")\n",
    "count = 0\n",
    "for s in str:\n",
    "    count=count+1\n",
    "print(\"Number of string\", count)"
   ]
  },
  {
   "cell_type": "markdown",
   "id": "4c3dcbe8",
   "metadata": {},
   "source": [
    "### Q3) Write a program that take input from the user and display that input back in upper and lower cases."
   ]
  },
  {
   "cell_type": "code",
   "execution_count": 7,
   "id": "141668da",
   "metadata": {},
   "outputs": [
    {
     "name": "stdout",
     "output_type": "stream",
     "text": [
      "Enter a characters MADAM\n",
      "Upper case is   MADAM\n",
      "Lower case is  madam\n"
     ]
    }
   ],
   "source": [
    "user_input = input(\"Enter a characters \")\n",
    "print(\"Upper case is  \", user_input.upper())\n",
    "print(\"Lower case is \", user_input.lower())"
   ]
  },
  {
   "cell_type": "markdown",
   "id": "c0dde6d0",
   "metadata": {},
   "source": [
    "### Q4) Write a program to check whether a given string is palindrome or not."
   ]
  },
  {
   "cell_type": "code",
   "execution_count": 5,
   "id": "439c409a",
   "metadata": {},
   "outputs": [
    {
     "name": "stdout",
     "output_type": "stream",
     "text": [
      "Enter a string : 123\n",
      "It is not a palindrome\n"
     ]
    }
   ],
   "source": [
    "s=input(\"Enter a string : \")\n",
    "revstr=(s[::-1]) #reverse string to repeat the string -1\n",
    "if revstr==s:\n",
    "    print(\"It is a palindrome\")\n",
    "else:\n",
    "    print(\"It is not a palindrome\")"
   ]
  },
  {
   "cell_type": "markdown",
   "id": "a965ab51",
   "metadata": {},
   "source": [
    "### Q5) Write a program that accepts a comma seperated sequence of words as input and prints the unique words in sorted form."
   ]
  },
  {
   "cell_type": "code",
   "execution_count": 8,
   "id": "d08cf428",
   "metadata": {},
   "outputs": [
    {
     "name": "stdout",
     "output_type": "stream",
     "text": [
      "Ajay\n",
      "['Ajay']\n"
     ]
    }
   ],
   "source": [
    "sen=input().split(\",\")\n",
    "\n",
    "a=list(set(sen))\n",
    "\n",
    "a.sort()\n",
    "\n",
    "print(str(a))"
   ]
  }
 ],
 "metadata": {
  "kernelspec": {
   "display_name": "Python 3 (ipykernel)",
   "language": "python",
   "name": "python3"
  },
  "language_info": {
   "codemirror_mode": {
    "name": "ipython",
    "version": 3
   },
   "file_extension": ".py",
   "mimetype": "text/x-python",
   "name": "python",
   "nbconvert_exporter": "python",
   "pygments_lexer": "ipython3",
   "version": "3.9.12"
  }
 },
 "nbformat": 4,
 "nbformat_minor": 5
}
