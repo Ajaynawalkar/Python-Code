{
 "cells": [
  {
   "cell_type": "markdown",
   "id": "55a03a21",
   "metadata": {},
   "source": [
    "# Q1) Write a program to find the repeated item of a tuple."
   ]
  },
  {
   "cell_type": "code",
   "execution_count": 1,
   "id": "9408eafa",
   "metadata": {},
   "outputs": [
    {
     "name": "stdout",
     "output_type": "stream",
     "text": [
      "Enter a element : 4\n",
      "3\n"
     ]
    }
   ],
   "source": [
    "tuple=(2,4,2,4,5,6,9,5,4)\n",
    "x=int(input(\"Enter a element : \"))\n",
    "count=tuple.count(x)\n",
    "print(count)"
   ]
  },
  {
   "cell_type": "markdown",
   "id": "3ec3b182",
   "metadata": {},
   "source": [
    "# Q2) Write program to check whether the element exist with in a tuple."
   ]
  },
  {
   "cell_type": "code",
   "execution_count": 7,
   "id": "f5f7f69f",
   "metadata": {},
   "outputs": [
    {
     "name": "stdout",
     "output_type": "stream",
     "text": [
      "Enter a element to find : 14\n",
      "Tuple items are (14, 2, 7, 8, 96, 85, 66, 35)\n",
      "It exist 14 ? True\n"
     ]
    }
   ],
   "source": [
    "tuple1=(14,2,7,8,96,85,66,35)\n",
    "element=int(input('Enter a element to find : '))\n",
    "Result=element in tuple1\n",
    "print('Tuple items are', tuple1)\n",
    "print('It exist', element , '?' , Result)\n"
   ]
  },
  {
   "cell_type": "markdown",
   "id": "e8e5da2f",
   "metadata": {},
   "source": [
    "# Q3) Write a program to convert list to a tuple."
   ]
  },
  {
   "cell_type": "code",
   "execution_count": 8,
   "id": "3f25a3f5",
   "metadata": {},
   "outputs": [
    {
     "name": "stdout",
     "output_type": "stream",
     "text": [
      "(1, 2, 3, 4)\n"
     ]
    }
   ],
   "source": [
    "def convert(list):\n",
    "    return (*list, )\n",
    "  \n",
    "\n",
    "list = [1, 2, 3, 4]\n",
    "print(convert(list))"
   ]
  },
  {
   "cell_type": "markdown",
   "id": "b38d665b",
   "metadata": {},
   "source": [
    "# Q4) Write a program to remove an item from tuple."
   ]
  },
  {
   "cell_type": "code",
   "execution_count": 11,
   "id": "e9d296da",
   "metadata": {},
   "outputs": [
    {
     "name": "stdout",
     "output_type": "stream",
     "text": [
      "('Python', 'Programming')\n"
     ]
    }
   ],
   "source": [
    "T1 = [(1,2), (3.78, 9.56), (\"Python\", \"Programming\")]\n",
    "T2=T1.pop(2)\n",
    "print(T2)"
   ]
  },
  {
   "cell_type": "markdown",
   "id": "e3693682",
   "metadata": {},
   "source": [
    "# Q5) Write a program to slice a tuple."
   ]
  },
  {
   "cell_type": "code",
   "execution_count": 33,
   "id": "36038e34",
   "metadata": {},
   "outputs": [
    {
     "name": "stdout",
     "output_type": "stream",
     "text": [
      "('a', 'b', 'c', 'd', 'e', 'f')\n",
      "('b', 'd', 'f', 'h')\n",
      "('j', 'h')\n"
     ]
    }
   ],
   "source": [
    "tuple= ('a','b','c','d','e','f','g','h','i','j')\n",
    "print(tuple[0:6])\n",
    "print(tuple[1:9:2])\n",
    "print(tuple[-1:-5:-2])"
   ]
  },
  {
   "cell_type": "markdown",
   "id": "72214727",
   "metadata": {},
   "source": [
    "# Q6) Write a program to find the index of an item in tuple."
   ]
  },
  {
   "cell_type": "code",
   "execution_count": 37,
   "id": "d3678264",
   "metadata": {},
   "outputs": [
    {
     "name": "stdout",
     "output_type": "stream",
     "text": [
      "2\n"
     ]
    }
   ],
   "source": [
    "vowels = ('a', 'e', 'i', 'o', 'u')\n",
    "index = vowels.index('i')\n",
    "print(index)"
   ]
  },
  {
   "cell_type": "markdown",
   "id": "21e54e96",
   "metadata": {},
   "source": [
    "# Q7) Write a progam to find the lenght of tuple."
   ]
  },
  {
   "cell_type": "code",
   "execution_count": 38,
   "id": "d0b2bada",
   "metadata": {},
   "outputs": [
    {
     "name": "stdout",
     "output_type": "stream",
     "text": [
      "10\n"
     ]
    }
   ],
   "source": [
    "tuple1= ('a','b','c','d','e','f','g','h','i','j')\n",
    "t1=len(tuple1)\n",
    "print(t1)"
   ]
  },
  {
   "cell_type": "markdown",
   "id": "23274bea",
   "metadata": {},
   "source": [
    "# Q8) Write a program to convert tuple to dictonary."
   ]
  },
  {
   "cell_type": "code",
   "execution_count": 13,
   "id": "c99b0d0c",
   "metadata": {},
   "outputs": [
    {
     "name": "stdout",
     "output_type": "stream",
     "text": [
      "{2: 1, 9.56: 3.78, 'Programming': 'Python'}\n"
     ]
    }
   ],
   "source": [
    "tupl2 = ((1,2), (3.78, 9.56), (\"Python\", \"Programming\"))\n",
    "\n",
    "\n",
    "dict = dict((y, x) for x, y in tup)\n",
    "print(dct)"
   ]
  },
  {
   "cell_type": "code",
   "execution_count": null,
   "id": "442568a0",
   "metadata": {},
   "outputs": [],
   "source": []
  }
 ],
 "metadata": {
  "kernelspec": {
   "display_name": "Python 3 (ipykernel)",
   "language": "python",
   "name": "python3"
  },
  "language_info": {
   "codemirror_mode": {
    "name": "ipython",
    "version": 3
   },
   "file_extension": ".py",
   "mimetype": "text/x-python",
   "name": "python",
   "nbconvert_exporter": "python",
   "pygments_lexer": "ipython3",
   "version": "3.9.12"
  }
 },
 "nbformat": 4,
 "nbformat_minor": 5
}
