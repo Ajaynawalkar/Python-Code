{
 "cells": [
  {
   "cell_type": "markdown",
   "id": "d69790aa",
   "metadata": {},
   "source": [
    "### Q1) Write a program to create a Tuples."
   ]
  },
  {
   "cell_type": "code",
   "execution_count": 35,
   "id": "0528ab71",
   "metadata": {},
   "outputs": [
    {
     "name": "stdout",
     "output_type": "stream",
     "text": [
      "(12, 45, 36, 'AJay')\n"
     ]
    }
   ],
   "source": [
    "t=(12,45,36,'AJay')\n",
    "t1=t\n",
    "print(t1)"
   ]
  },
  {
   "cell_type": "code",
   "execution_count": 36,
   "id": "b73a08a4",
   "metadata": {},
   "outputs": [
    {
     "data": {
      "text/plain": [
       "tuple"
      ]
     },
     "execution_count": 36,
     "metadata": {},
     "output_type": "execute_result"
    }
   ],
   "source": [
    "type(t)"
   ]
  },
  {
   "cell_type": "markdown",
   "id": "ce176e02",
   "metadata": {},
   "source": [
    "### Q2) Write a programe to create a Tuple with different data types."
   ]
  },
  {
   "cell_type": "code",
   "execution_count": 37,
   "id": "d363f880",
   "metadata": {},
   "outputs": [
    {
     "name": "stdout",
     "output_type": "stream",
     "text": [
      "(12, 45, 36, 'AJay')\n"
     ]
    }
   ],
   "source": [
    "t=[(1,5,36,78,96)]\n",
    "t=t1\n",
    "print(t1)"
   ]
  },
  {
   "cell_type": "code",
   "execution_count": 38,
   "id": "63e90672",
   "metadata": {},
   "outputs": [
    {
     "data": {
      "text/plain": [
       "tuple"
      ]
     },
     "execution_count": 38,
     "metadata": {},
     "output_type": "execute_result"
    }
   ],
   "source": [
    "type(t)"
   ]
  },
  {
   "cell_type": "code",
   "execution_count": 39,
   "id": "74bfdc7b",
   "metadata": {},
   "outputs": [
    {
     "name": "stdout",
     "output_type": "stream",
     "text": [
      "([23, 6], 'Ajay', 56, [1, 2, 3, 4])\n"
     ]
    }
   ],
   "source": [
    "t=([23,6,],'Ajay',56,[1,2,3,4])\n",
    "print(t)"
   ]
  },
  {
   "cell_type": "code",
   "execution_count": 40,
   "id": "2d642e98",
   "metadata": {},
   "outputs": [
    {
     "data": {
      "text/plain": [
       "tuple"
      ]
     },
     "execution_count": 40,
     "metadata": {},
     "output_type": "execute_result"
    }
   ],
   "source": [
    "type(t)"
   ]
  },
  {
   "cell_type": "code",
   "execution_count": 41,
   "id": "23cabe82",
   "metadata": {},
   "outputs": [
    {
     "name": "stdout",
     "output_type": "stream",
     "text": [
      "{2, 4, 6, 8, 45, 78}\n"
     ]
    }
   ],
   "source": [
    "d={2,4,6,8,78,45}\n",
    "print(d)"
   ]
  },
  {
   "cell_type": "code",
   "execution_count": 42,
   "id": "8ba6d002",
   "metadata": {},
   "outputs": [
    {
     "data": {
      "text/plain": [
       "set"
      ]
     },
     "execution_count": 42,
     "metadata": {},
     "output_type": "execute_result"
    }
   ],
   "source": [
    "type(d)"
   ]
  },
  {
   "cell_type": "code",
   "execution_count": 43,
   "id": "e69da260",
   "metadata": {},
   "outputs": [
    {
     "name": "stdout",
     "output_type": "stream",
     "text": [
      "{1: 'one', 2: 'Two', 3: 'Three'}\n"
     ]
    }
   ],
   "source": [
    "d1={1:'one',2:'Two',3:'Three'}\n",
    "print(d1)"
   ]
  },
  {
   "cell_type": "code",
   "execution_count": 44,
   "id": "ae54465b",
   "metadata": {},
   "outputs": [
    {
     "data": {
      "text/plain": [
       "dict"
      ]
     },
     "execution_count": 44,
     "metadata": {},
     "output_type": "execute_result"
    }
   ],
   "source": [
    "type(d1)"
   ]
  },
  {
   "cell_type": "code",
   "execution_count": 45,
   "id": "d98ac31e",
   "metadata": {},
   "outputs": [
    {
     "name": "stdout",
     "output_type": "stream",
     "text": [
      "[12, 36, 52, 'Ajay', (5+8j)]\n"
     ]
    }
   ],
   "source": [
    "l=[12,36,52,'Ajay',5+8j]\n",
    "print(l)"
   ]
  },
  {
   "cell_type": "code",
   "execution_count": 46,
   "id": "a0defa08",
   "metadata": {},
   "outputs": [
    {
     "data": {
      "text/plain": [
       "list"
      ]
     },
     "execution_count": 46,
     "metadata": {},
     "output_type": "execute_result"
    }
   ],
   "source": [
    "type(l)"
   ]
  },
  {
   "cell_type": "markdown",
   "id": "1def8c63",
   "metadata": {},
   "source": [
    "### Q3) Write a program to create tuple with numbers and print one item."
   ]
  },
  {
   "cell_type": "code",
   "execution_count": 47,
   "id": "90538c3d",
   "metadata": {},
   "outputs": [
    {
     "name": "stdout",
     "output_type": "stream",
     "text": [
      "(5, 10, 15, 20, 25)\n"
     ]
    }
   ],
   "source": [
    "tuple = (5, 10, 15, 20, 25)\n",
    "print(tuple)"
   ]
  },
  {
   "cell_type": "code",
   "execution_count": 48,
   "id": "ba2d26f4",
   "metadata": {},
   "outputs": [
    {
     "data": {
      "text/plain": [
       "5"
      ]
     },
     "execution_count": 48,
     "metadata": {},
     "output_type": "execute_result"
    }
   ],
   "source": [
    "tuple[0]"
   ]
  },
  {
   "cell_type": "markdown",
   "id": "6c506d13",
   "metadata": {},
   "source": [
    "### Q4) Write a program to convert Tuple to a String."
   ]
  },
  {
   "cell_type": "code",
   "execution_count": 49,
   "id": "85ae95c1",
   "metadata": {},
   "outputs": [
    {
     "data": {
      "text/plain": [
       "('Welcome', 'to', 'Python', 'World')"
      ]
     },
     "execution_count": 49,
     "metadata": {},
     "output_type": "execute_result"
    }
   ],
   "source": [
    "T = ('Welcome', 'to', 'Python', 'World')\n",
    "T"
   ]
  },
  {
   "cell_type": "code",
   "execution_count": 50,
   "id": "a9050c6f",
   "metadata": {},
   "outputs": [
    {
     "name": "stdout",
     "output_type": "stream",
     "text": [
      "WelcometoPythonWorld\n"
     ]
    }
   ],
   "source": [
    "t1 = T\n",
    "str = ''.join(t1)\n",
    "print (str)"
   ]
  },
  {
   "cell_type": "code",
   "execution_count": 51,
   "id": "c8c9456b",
   "metadata": {},
   "outputs": [
    {
     "data": {
      "text/plain": [
       "tuple"
      ]
     },
     "execution_count": 51,
     "metadata": {},
     "output_type": "execute_result"
    }
   ],
   "source": [
    "type(T)"
   ]
  },
  {
   "cell_type": "markdown",
   "id": "5b695425",
   "metadata": {},
   "source": [
    "### Q5) Write a program to get the 4th element and 4th element from last of a tuple."
   ]
  },
  {
   "cell_type": "code",
   "execution_count": 52,
   "id": "a193221f",
   "metadata": {},
   "outputs": [
    {
     "name": "stdout",
     "output_type": "stream",
     "text": [
      "('Welcome', 'to', 'Python', 'World', 'of', 'Programming')\n",
      "4th Elements From Tuple : World\n",
      "4th Elements From Last Tuple : Python\n"
     ]
    }
   ],
   "source": [
    "t = ('Welcome', 'to', 'Python', 'World','of','Programming')\n",
    "print(t)\n",
    "i = t[3]\n",
    "print(\"4th Elements From Tuple :\",i)\n",
    "j = t[-4]\n",
    "print(\"4th Elements From Last Tuple :\",j)"
   ]
  },
  {
   "cell_type": "markdown",
   "id": "c95ed254",
   "metadata": {},
   "source": [
    "### Q6) Write a program to add item to tuple."
   ]
  },
  {
   "cell_type": "code",
   "execution_count": 53,
   "id": "e0ba20af",
   "metadata": {},
   "outputs": [
    {
     "name": "stdout",
     "output_type": "stream",
     "text": [
      "(2, 5, 8, 8, 16, 67)\n",
      "(2, 5, 8)\n"
     ]
    }
   ],
   "source": [
    "s=(2,5,8)\n",
    "s1 = s + (8, 16, 67)\n",
    "print(s1)\n",
    "print(s)"
   ]
  },
  {
   "cell_type": "code",
   "execution_count": 54,
   "id": "d60360e1",
   "metadata": {},
   "outputs": [
    {
     "data": {
      "text/plain": [
       "tuple"
      ]
     },
     "execution_count": 54,
     "metadata": {},
     "output_type": "execute_result"
    }
   ],
   "source": [
    "type(s)"
   ]
  },
  {
   "cell_type": "code",
   "execution_count": 55,
   "id": "a7df926a",
   "metadata": {},
   "outputs": [
    {
     "data": {
      "text/plain": [
       "tuple"
      ]
     },
     "execution_count": 55,
     "metadata": {},
     "output_type": "execute_result"
    }
   ],
   "source": [
    "type(s1)"
   ]
  }
 ],
 "metadata": {
  "kernelspec": {
   "display_name": "Python 3 (ipykernel)",
   "language": "python",
   "name": "python3"
  },
  "language_info": {
   "codemirror_mode": {
    "name": "ipython",
    "version": 3
   },
   "file_extension": ".py",
   "mimetype": "text/x-python",
   "name": "python",
   "nbconvert_exporter": "python",
   "pygments_lexer": "ipython3",
   "version": "3.9.12"
  }
 },
 "nbformat": 4,
 "nbformat_minor": 5
}
