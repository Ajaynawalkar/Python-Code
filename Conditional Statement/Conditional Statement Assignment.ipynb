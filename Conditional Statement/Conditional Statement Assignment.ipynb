{
 "cells": [
  {
   "cell_type": "markdown",
   "id": "e0421281",
   "metadata": {},
   "source": [
    "### Q1) Write a Programme to enter number between 1-12 and print the respective month."
   ]
  },
  {
   "cell_type": "code",
   "execution_count": 1,
   "id": "ee1da8a5",
   "metadata": {},
   "outputs": [
    {
     "name": "stdout",
     "output_type": "stream",
     "text": [
      "Month_number4\n",
      "April\n"
     ]
    }
   ],
   "source": [
    "month_name=int(input(\"Month_number\"))\n",
    "if month_name==1:\n",
    "    print('Jan')\n",
    "elif month_name==2:\n",
    "    print('Feb')\n",
    "elif month_name==3:\n",
    "    print('Mar')\n",
    "elif month_name==4:\n",
    "    print('April')\n",
    "elif month_name==5:\n",
    "    print('May')\n",
    "elif month_name==6:\n",
    "    print('June')\n",
    "elif month_name==7:\n",
    "    print('July')\n",
    "elif month_name==8:\n",
    "    print('Aug')\n",
    "elif month_name==9:\n",
    "    print('Sept')\n",
    "elif month_name==10:\n",
    "    print('Oct')\n",
    "elif month_name==11:\n",
    "    print('Nov')\n",
    "elif month_name==12:\n",
    "    print('Dec')\n",
    "else:\n",
    "    print(\"Declined\")"
   ]
  },
  {
   "cell_type": "markdown",
   "id": "b166d95c",
   "metadata": {},
   "source": [
    "### Q2) Write a programme to enter the number between the 1-4 and perform add, sub, divide and product"
   ]
  },
  {
   "cell_type": "code",
   "execution_count": 2,
   "id": "15365a00",
   "metadata": {},
   "outputs": [
    {
     "name": "stdout",
     "output_type": "stream",
     "text": [
      "Enter first number: 5\n",
      "Enter second number: 1\n",
      "1. Addition 2.Subtract 3.Multiplication 4.Division\n",
      "Enter your choice: 3\n",
      "Multiplication of 5 and 1 = 5\n"
     ]
    }
   ],
   "source": [
    "a = int(input(\"Enter first number: \")) \n",
    "b = int(input(\"Enter second number: \")) \n",
    "print(\"1. Addition 2.Subtract 3.Multiplication 4.Division\") \n",
    "choice = int(input(\"Enter your choice: \")) \n",
    "if(choice == 1): \n",
    "    print(\"Addition of {} and {} = {}\".format(a, b, a+b)) \n",
    "elif(choice == 2): \n",
    "    print(\"Subtraction of {} and {} = {}\".format(a, b, a-b)) \n",
    "elif(choice == 3): \n",
    "    print(\"Multiplication of {} and {} = {}\".format(a, b, a*b)) \n",
    "elif(choice == 4): \n",
    "    print(\"Division of {} and {} = {}\".format(a, b, a/b)) \n",
    "else: \n",
    "    print(\"Wrong Choice\")"
   ]
  },
  {
   "cell_type": "markdown",
   "id": "96a35890",
   "metadata": {},
   "source": [
    "### Q3) Write a program to covert Temperatures to and from celius, Fahernheit."
   ]
  },
  {
   "cell_type": "code",
   "execution_count": 15,
   "id": "a2aea9ce",
   "metadata": {},
   "outputs": [
    {
     "name": "stdout",
     "output_type": "stream",
     "text": [
      "Enter temp in celsius :55\n",
      "131.0\n"
     ]
    }
   ],
   "source": [
    "c=float(input(\"Enter temp in celsius :\"))\n",
    "f=c*9/5+32\n",
    "print(f)"
   ]
  },
  {
   "cell_type": "markdown",
   "id": "490a6fdf",
   "metadata": {},
   "source": [
    "### Q4)A company decided to give bonus of 5% to employee if his/her year of service is more than 5 years. Ask user for their salary and year of service and print the net bonus amount."
   ]
  },
  {
   "cell_type": "code",
   "execution_count": 12,
   "id": "6ca57da8",
   "metadata": {},
   "outputs": [
    {
     "name": "stdout",
     "output_type": "stream",
     "text": [
      "Enter a Salary1500\n",
      "Enter a Experience in years5\n",
      "Net bonus Amount 75.0\n"
     ]
    }
   ],
   "source": [
    "E=int(input(\"Enter a Salary\"))\n",
    "T=int(input(\"Enter a Experience in years\"))\n",
    "N=E*0.05\n",
    "if T>=5:\n",
    "    print(\"Net bonus Amount\", N)\n",
    "else:\n",
    "    print(\"Declined\")"
   ]
  },
  {
   "cell_type": "markdown",
   "id": "28286f64",
   "metadata": {},
   "source": [
    "### Q5) Write a program to take input of length and breadth of a rectangle from user and check if it is square or not."
   ]
  },
  {
   "cell_type": "code",
   "execution_count": 28,
   "id": "517568a8",
   "metadata": {},
   "outputs": [
    {
     "name": "stdout",
     "output_type": "stream",
     "text": [
      "Enter length 5\n",
      "Enter breadth 5\n",
      "Yes, it is square\n"
     ]
    }
   ],
   "source": [
    "lenght=int(input(\"Enter length \"))\n",
    "breadth=int(input(\"Enter breadth \"))\n",
    "if lenght == breadth:\n",
    "    print(\"Yes, it is square\")\n",
    "else:\n",
    "    print(\"No, its a rectangle\")"
   ]
  },
  {
   "cell_type": "markdown",
   "id": "9aa69ff7",
   "metadata": {},
   "source": [
    "### Q6) Take input of age of 3 people by user and determine oldest and youngest among them."
   ]
  },
  {
   "cell_type": "code",
   "execution_count": 32,
   "id": "c5be6c2a",
   "metadata": {},
   "outputs": [
    {
     "name": "stdout",
     "output_type": "stream",
     "text": [
      "Enter first age :5\n",
      "Enter second age :7\n",
      "third age :8\n",
      "Oldest is 8\n"
     ]
    }
   ],
   "source": [
    "first = int(input(\"Enter first age :\"))\n",
    "second = int(input(\"Enter second age :\"))\n",
    "third = int(input(\"third age :\"))\n",
    "if first >= second and first >= third:\n",
    "    print(\"Oldest is\", first)\n",
    "elif second >= first and second >= third:\n",
    "    print(\"Oldest is\", second)\n",
    "elif third >= first and third >= second:\n",
    "    print(\"Oldest is\", third)\n",
    "else:\n",
    "    print(\"All are equal\")"
   ]
  },
  {
   "cell_type": "markdown",
   "id": "c8e7053f",
   "metadata": {},
   "source": [
    "## Q7) A school has following rules for grading system:\n",
    "### a. Below 25 - F\n",
    "### b. 25 to 45 - E\n",
    "### c. 45 to 50 - D\n",
    "### d. 50 to 60 - C\n",
    "### e. 60 to 80 - B\n",
    "### f. Above 80 - A\n",
    "## Ask user to enter marks and print the corresponding grade."
   ]
  },
  {
   "cell_type": "code",
   "execution_count": 33,
   "id": "0cfcdd61",
   "metadata": {},
   "outputs": [
    {
     "name": "stdout",
     "output_type": "stream",
     "text": [
      "Enter marks65\n",
      "B\n"
     ]
    }
   ],
   "source": [
    "marks=int(input(\"Enter marks\"))\n",
    "if marks<25:\n",
    "    print(\"F\")\n",
    "elif marks>=25 and marks<45:\n",
    "    print(\"E\")\n",
    "elif marks>=45 and marks<50:\n",
    "    print(\"D\")\n",
    "elif marks>=50 and marks<60:\n",
    "    print(\"C\")\n",
    "elif marks>=60 and marks<80:\n",
    "    print(\"B\")\n",
    "else:\n",
    "    print(\"A\")"
   ]
  },
  {
   "cell_type": "code",
   "execution_count": null,
   "id": "d77d3adc",
   "metadata": {},
   "outputs": [],
   "source": []
  }
 ],
 "metadata": {
  "kernelspec": {
   "display_name": "Python 3 (ipykernel)",
   "language": "python",
   "name": "python3"
  },
  "language_info": {
   "codemirror_mode": {
    "name": "ipython",
    "version": 3
   },
   "file_extension": ".py",
   "mimetype": "text/x-python",
   "name": "python",
   "nbconvert_exporter": "python",
   "pygments_lexer": "ipython3",
   "version": "3.9.12"
  }
 },
 "nbformat": 4,
 "nbformat_minor": 5
}
