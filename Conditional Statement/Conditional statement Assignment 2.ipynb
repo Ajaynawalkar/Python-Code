{
 "cells": [
  {
   "cell_type": "markdown",
   "id": "76303291",
   "metadata": {},
   "source": [
    "### Q1) A student will not be allowed to sit in exam if his attendence is less than 75%\n",
    "### Take following input from user -\n",
    "   #### Number of classes held\n",
    "   #### Number of classes attended \n",
    "### Print\n",
    "   #### Percentage of a class attended\n",
    "   #### Is student allowed to sit in exam or not"
   ]
  },
  {
   "cell_type": "code",
   "execution_count": 4,
   "id": "4a997f9b",
   "metadata": {},
   "outputs": [
    {
     "name": "stdout",
     "output_type": "stream",
     "text": [
      "Number of classes held:100\n",
      "Number of classes attended:75\n",
      "Percentage of classes attended 75.0\n",
      "The student is allowed to sit in the exam hall\n"
     ]
    }
   ],
   "source": [
    "a=int(input(\"Number of classes held:\"))\n",
    "\n",
    "b=int(input(\"Number of classes attended:\"))\n",
    "\n",
    "percentage=b/a*100\n",
    "print('Percentage of classes attended', percentage)\n",
    "\n",
    "if percentage>=75:\n",
    "\n",
    "        print(\"The student is allowed to sit in the exam hall\")\n",
    "\n",
    "else:\n",
    "\n",
    "        print(\"The student is not allowed to sit in the exam hall\")"
   ]
  },
  {
   "cell_type": "code",
   "execution_count": null,
   "id": "e2e4f645",
   "metadata": {},
   "outputs": [],
   "source": []
  }
 ],
 "metadata": {
  "kernelspec": {
   "display_name": "Python 3 (ipykernel)",
   "language": "python",
   "name": "python3"
  },
  "language_info": {
   "codemirror_mode": {
    "name": "ipython",
    "version": 3
   },
   "file_extension": ".py",
   "mimetype": "text/x-python",
   "name": "python",
   "nbconvert_exporter": "python",
   "pygments_lexer": "ipython3",
   "version": "3.9.12"
  }
 },
 "nbformat": 4,
 "nbformat_minor": 5
}
