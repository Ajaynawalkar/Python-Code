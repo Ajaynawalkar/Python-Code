{
 "cells": [
  {
   "cell_type": "markdown",
   "id": "771a0b5e",
   "metadata": {},
   "source": [
    "### Q1) Write a program to sum all the item in a list."
   ]
  },
  {
   "cell_type": "code",
   "execution_count": 5,
   "id": "54ca913e",
   "metadata": {},
   "outputs": [
    {
     "name": "stdout",
     "output_type": "stream",
     "text": [
      "Sum of Item is  150\n"
     ]
    }
   ],
   "source": [
    "l=[10,20,30,40,50]\n",
    "total=0\n",
    "for x in l:\n",
    "    total = total + x\n",
    "print(\"Sum of Item is \" ,total)"
   ]
  },
  {
   "cell_type": "markdown",
   "id": "89997c01",
   "metadata": {},
   "source": [
    "### Q2) Write a program to multiply all the item in a list."
   ]
  },
  {
   "cell_type": "code",
   "execution_count": 25,
   "id": "18663c02",
   "metadata": {},
   "outputs": [
    {
     "name": "stdout",
     "output_type": "stream",
     "text": [
      "Sum of Item is  720\n"
     ]
    }
   ],
   "source": [
    "l=[2,3,4,5,6]\n",
    "total=1\n",
    "for x in l:\n",
    "    total = total * x\n",
    "print(\"Sum of Item is \" ,total)"
   ]
  },
  {
   "cell_type": "markdown",
   "id": "d688634f",
   "metadata": {},
   "source": [
    "### Q3) Write a prograrm to get the largest number from a list."
   ]
  },
  {
   "cell_type": "code",
   "execution_count": 1,
   "id": "1d236768",
   "metadata": {},
   "outputs": [
    {
     "name": "stdout",
     "output_type": "stream",
     "text": [
      "Enter number of Items:5\n",
      "Enter element:45\n",
      "Enter element:78\n",
      "Enter element:45\n",
      "Enter element:96\n",
      "Enter element:56\n",
      "Largest element is: 96\n"
     ]
    }
   ],
   "source": [
    "a=[]\n",
    "n=int(input(\"Enter number of Items:\"))\n",
    "for i in range(1,n+1):\n",
    "    b=int(input(\"Enter element:\"))\n",
    "    a.append(b)\n",
    "a.sort()\n",
    "print(\"Largest element is:\",a[n-1])"
   ]
  },
  {
   "cell_type": "markdown",
   "id": "cdf6d80d",
   "metadata": {},
   "source": [
    "### Q4) Write a prograrm to get the smallest number from a list."
   ]
  },
  {
   "cell_type": "code",
   "execution_count": 5,
   "id": "8a43ef62",
   "metadata": {},
   "outputs": [
    {
     "name": "stdout",
     "output_type": "stream",
     "text": [
      "Smallest number in the list is:  22\n"
     ]
    }
   ],
   "source": [
    "l = [50, 44, 72, 22, 48, 60]\n",
    "smallest = min(a)\n",
    "print(\"Smallest number in the list is: \", smallest)"
   ]
  },
  {
   "cell_type": "markdown",
   "id": "40c0a227",
   "metadata": {},
   "source": [
    "### Q5) Write a program to remove duplicate from a given list."
   ]
  },
  {
   "cell_type": "code",
   "execution_count": 12,
   "id": "f3c4298d",
   "metadata": {},
   "outputs": [
    {
     "name": "stdout",
     "output_type": "stream",
     "text": [
      "[22, 56, 85, 68, 98]\n"
     ]
    }
   ],
   "source": [
    "list_of_lists = [22,56,85,56,85,22,68,98,98]\n",
    "new_list = []\n",
    "for l in list_of_lists:\n",
    "    if l not in new_list:\n",
    "        new_list.append(l)\n",
    "print(new_list)"
   ]
  },
  {
   "cell_type": "markdown",
   "id": "fc35ea66",
   "metadata": {},
   "source": [
    "### Q6) Write a program to check the list is empty or not."
   ]
  },
  {
   "cell_type": "code",
   "execution_count": 17,
   "id": "705292d9",
   "metadata": {},
   "outputs": [
    {
     "name": "stdout",
     "output_type": "stream",
     "text": [
      "there is something\n"
     ]
    }
   ],
   "source": [
    "my_list = [5]\n",
    "if not my_list:\n",
    "    print(\"The list is empty\")\n",
    "else:\n",
    "    print(\"There is something\")"
   ]
  },
  {
   "cell_type": "markdown",
   "id": "7272280f",
   "metadata": {},
   "source": [
    "### Q7) Write a python program to count the number of strings where the string lenght is 2 or more and the first and the last character are same from a given list of strings."
   ]
  },
  {
   "cell_type": "code",
   "execution_count": 21,
   "id": "f3767b7c",
   "metadata": {},
   "outputs": [
    {
     "name": "stdout",
     "output_type": "stream",
     "text": [
      "4\n"
     ]
    }
   ],
   "source": [
    "word=[\"madem\",\"3643\",\"apple\",\"3756\",\"bulb\",\"1551\"]\n",
    "ch = 0\n",
    "for w in word:\n",
    "    if len(w) > 1 and w[0] == w[-1]:\n",
    "        ch += 1\n",
    "print(ch)"
   ]
  }
 ],
 "metadata": {
  "kernelspec": {
   "display_name": "Python 3 (ipykernel)",
   "language": "python",
   "name": "python3"
  },
  "language_info": {
   "codemirror_mode": {
    "name": "ipython",
    "version": 3
   },
   "file_extension": ".py",
   "mimetype": "text/x-python",
   "name": "python",
   "nbconvert_exporter": "python",
   "pygments_lexer": "ipython3",
   "version": "3.9.12"
  }
 },
 "nbformat": 4,
 "nbformat_minor": 5
}
