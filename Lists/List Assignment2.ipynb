{
 "cells": [
  {
   "cell_type": "markdown",
   "id": "4c9388eb",
   "metadata": {},
   "source": [
    "### Q1) Write a program to copy a list."
   ]
  },
  {
   "cell_type": "code",
   "execution_count": 10,
   "id": "c7d2aa70",
   "metadata": {},
   "outputs": [
    {
     "name": "stdout",
     "output_type": "stream",
     "text": [
      "[10, 2, 30, 4, 50, 6, 70]\n"
     ]
    }
   ],
   "source": [
    "L=[10,2,30,4,50,6,70]\n",
    "L1=L.copy()\n",
    "print(L1)"
   ]
  },
  {
   "cell_type": "markdown",
   "id": "b1a7be93",
   "metadata": {},
   "source": [
    "### Q2) Write a program to check whether two list are circularly identical."
   ]
  },
  {
   "cell_type": "code",
   "execution_count": 9,
   "id": "13d3587d",
   "metadata": {},
   "outputs": [
    {
     "name": "stdout",
     "output_type": "stream",
     "text": [
      "Identical\n"
     ]
    }
   ],
   "source": [
    "L1 = [1,1,2,7,8,9,6]\n",
    "L2 = [1,2,1,6,8,9,7]\n",
    "L1.sort()\n",
    "L2.sort()\n",
    "if L1 == L2:\n",
    "    print('Identical')\n",
    "if L1 != L2:\n",
    "    print('Different')"
   ]
  },
  {
   "cell_type": "markdown",
   "id": "e0c1fc09",
   "metadata": {},
   "source": [
    "### Q3) Write a program to find the second smallest number in a list."
   ]
  },
  {
   "cell_type": "code",
   "execution_count": 1,
   "id": "c01fb29b",
   "metadata": {},
   "outputs": [
    {
     "name": "stdout",
     "output_type": "stream",
     "text": [
      "Enter the number of elements: 5\n",
      "Enter the elements: 12\n",
      "Enter the elements: 10\n",
      "Enter the elements: 4\n",
      "Enter the elements: 3\n",
      "Enter the elements: 18\n",
      "The sorted list:  [3, 4, 10, 12, 18]\n",
      "The second smallest value of this list:  4\n"
     ]
    }
   ],
   "source": [
    "li = [] \n",
    "n = int(input(\"Enter the number of elements: \"))\n",
    "for i in range(1, n+1): \n",
    "    E = int(input(\"Enter the elements: \")) \n",
    "    li.append(E) \n",
    "li.sort() \n",
    "\n",
    "print(\"The sorted list: \", li) \n",
    "print(\"The second smallest value of this list: \",li[1])"
   ]
  },
  {
   "cell_type": "markdown",
   "id": "8ff23bdf",
   "metadata": {},
   "source": [
    "### Q4) Write a program to find the second Largest number in a list"
   ]
  },
  {
   "cell_type": "code",
   "execution_count": 1,
   "id": "5a0ac034",
   "metadata": {},
   "outputs": [
    {
     "name": "stdout",
     "output_type": "stream",
     "text": [
      "Enter the number of elements: 4\n",
      "Enter the elements: 1\n",
      "Enter the elements: 2\n",
      "Enter the elements: 3\n",
      "Enter the elements: 4\n",
      "The sorted list:  [1, 2, 3, 4]\n",
      "The second smallest value of this list:  3\n"
     ]
    }
   ],
   "source": [
    "li = [] \n",
    "n = int(input(\"Enter the number of elements: \"))\n",
    "for i in range(1, n+1): \n",
    "    E = int(input(\"Enter the elements: \")) \n",
    "    li.append(E) \n",
    "li.sort() \n",
    "\n",
    "print(\"The sorted list: \", li) \n",
    "print(\"The second smallest value of this list: \",li[n-2])"
   ]
  },
  {
   "cell_type": "markdown",
   "id": "8513765a",
   "metadata": {},
   "source": [
    "### Q5) Write a program to get unique values from list."
   ]
  },
  {
   "cell_type": "code",
   "execution_count": 2,
   "id": "ea2fe780",
   "metadata": {},
   "outputs": [
    {
     "name": "stdout",
     "output_type": "stream",
     "text": [
      "Original List :  [10, 20, 30, 40, 20, 50, 60, 40]\n",
      "List of unique numbers :  [40, 10, 50, 20, 60, 30]\n"
     ]
    }
   ],
   "source": [
    "l1 = [10, 20, 30, 40, 20, 50, 60, 40]\n",
    "print(\"Original List : \",l1)\n",
    "s1 = set(l1)\n",
    "new_list = list(s1)\n",
    "print(\"List of unique numbers : \",new_list)"
   ]
  },
  {
   "cell_type": "markdown",
   "id": "e975bbc1",
   "metadata": {},
   "source": [
    "### Q6) Write a program to get the frequency of the elements in a list."
   ]
  },
  {
   "cell_type": "code",
   "execution_count": 1,
   "id": "e5ae5af4",
   "metadata": {},
   "outputs": [
    {
     "name": "stdout",
     "output_type": "stream",
     "text": [
      "[1, 2, 3, 6, 5, 8, 9, 85, 58, 74, 52, 4]\n",
      "Frequency of a element in list -  {1: 1, 2: 1, 3: 1, 6: 1, 5: 1, 8: 1, 9: 1, 85: 1, 58: 1, 74: 1, 52: 1, 4: 1}\n"
     ]
    }
   ],
   "source": [
    "n=[1,2,3,6,5,8,9,85,58,74,52,4]\n",
    "m=n.copy()\n",
    "c=[0]*len(m)\n",
    "my=dict()\n",
    "for i in range(len(m)):\n",
    "    for j in range(len(n)):\n",
    "        if m[i]==n[j]:\n",
    "            c[i]+=1\n",
    "            my[m[i]]=c[i]\n",
    "print(n)\n",
    "print('Frequency of a element in list - ',my)"
   ]
  },
  {
   "cell_type": "code",
   "execution_count": null,
   "id": "ded9209f",
   "metadata": {},
   "outputs": [],
   "source": []
  }
 ],
 "metadata": {
  "kernelspec": {
   "display_name": "Python 3 (ipykernel)",
   "language": "python",
   "name": "python3"
  },
  "language_info": {
   "codemirror_mode": {
    "name": "ipython",
    "version": 3
   },
   "file_extension": ".py",
   "mimetype": "text/x-python",
   "name": "python",
   "nbconvert_exporter": "python",
   "pygments_lexer": "ipython3",
   "version": "3.9.12"
  }
 },
 "nbformat": 4,
 "nbformat_minor": 5
}
