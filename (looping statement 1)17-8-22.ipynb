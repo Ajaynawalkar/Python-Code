{
 "cells": [
  {
   "cell_type": "markdown",
   "id": "0d5094c3",
   "metadata": {},
   "source": [
    "# looping Statement 1"
   ]
  },
  {
   "cell_type": "markdown",
   "id": "b0f1a20e",
   "metadata": {},
   "source": [
    "# Q1) Write a programme for print 'Hello' ten times."
   ]
  },
  {
   "cell_type": "code",
   "execution_count": null,
   "id": "d51ca6e0",
   "metadata": {},
   "outputs": [],
   "source": [
    "i=1\n",
    "while i<=10:\n",
    "    print('Hello Python')\n",
    "    i=i+1"
   ]
  },
  {
   "cell_type": "markdown",
   "id": "0fc2f4eb",
   "metadata": {},
   "source": [
    "# Q2) Write a programme for print number from 1 to 10."
   ]
  },
  {
   "cell_type": "code",
   "execution_count": null,
   "id": "22f6a308",
   "metadata": {},
   "outputs": [],
   "source": [
    "i=1\n",
    "while i<=10:\n",
    "    print(i)\n",
    "    i=i+1"
   ]
  },
  {
   "cell_type": "markdown",
   "id": "4de08f55",
   "metadata": {},
   "source": [
    "# Q3) Write a programme for print sum of first ten number."
   ]
  },
  {
   "cell_type": "code",
   "execution_count": 1,
   "id": "d9b7e188",
   "metadata": {},
   "outputs": [
    {
     "name": "stdout",
     "output_type": "stream",
     "text": [
      "1\n",
      "3\n",
      "6\n",
      "10\n",
      "15\n",
      "21\n",
      "28\n",
      "36\n",
      "45\n",
      "55\n"
     ]
    }
   ],
   "source": [
    "i=1\n",
    "add=0\n",
    "while i<=10:\n",
    "    add=add+i\n",
    "    i=i+1\n",
    "    print(add)"
   ]
  },
  {
   "cell_type": "markdown",
   "id": "2bb0a1f6",
   "metadata": {},
   "source": [
    "# Q4) Write a programme for print n number entered by user."
   ]
  },
  {
   "cell_type": "code",
   "execution_count": null,
   "id": "37147c4d",
   "metadata": {},
   "outputs": [],
   "source": [
    "i=1\n",
    "n=int(input(\"Enter the number \"))\n",
    "while i<=n:\n",
    "    print(i)\n",
    "    i=i+1"
   ]
  },
  {
   "cell_type": "markdown",
   "id": "3ac6b5d6",
   "metadata": {},
   "source": [
    "# Q5) Write a programme for print sum of n numbers"
   ]
  },
  {
   "cell_type": "code",
   "execution_count": null,
   "id": "1a240e2b",
   "metadata": {},
   "outputs": [],
   "source": [
    "i=1\n",
    "n=int(input(\"Enter the number \"))\n",
    "add=0\n",
    "while i<=n:\n",
    "    add=add+i\n",
    "    print(add)\n",
    "    i=i+1"
   ]
  },
  {
   "cell_type": "markdown",
   "id": "6e5d1f36",
   "metadata": {},
   "source": [
    "# Q6) Write a programme for print table of a numbers."
   ]
  },
  {
   "cell_type": "code",
   "execution_count": null,
   "id": "63ede046",
   "metadata": {},
   "outputs": [],
   "source": [
    "n=int(input(\"Enter the number\"))\n",
    "i=1\n",
    "while i<=10:\n",
    "    t=n*i\n",
    "    print(t)\n",
    "    i=i+1\n",
    "    "
   ]
  },
  {
   "cell_type": "markdown",
   "id": "d3a195c2",
   "metadata": {},
   "source": [
    "# Q7) Write a programme to calculate the Factorial of a number."
   ]
  },
  {
   "cell_type": "code",
   "execution_count": null,
   "id": "a3971068",
   "metadata": {},
   "outputs": [],
   "source": [
    "n=int(input('Enter the number'))\n",
    "f=1\n",
    "while n>0:\n",
    "    f=f*n\n",
    "    n=n-1\n",
    "    print(f)"
   ]
  },
  {
   "cell_type": "markdown",
   "id": "747a8a10",
   "metadata": {},
   "source": [
    "# Q8) Write a programme for print even number from 1 to 100"
   ]
  },
  {
   "cell_type": "code",
   "execution_count": 1,
   "id": "c159f342",
   "metadata": {},
   "outputs": [
    {
     "name": "stdout",
     "output_type": "stream",
     "text": [
      "Enter a number: 10\n",
      "2  \n",
      "4  \n",
      "6  \n",
      "8  \n",
      "10  \n"
     ]
    }
   ],
   "source": [
    "x = int(input(\"Enter a number: \"))\n",
    "i = 1\n",
    "\n",
    "while i <= x:\n",
    "    if i % 2 == 0:\n",
    "        print(i, \" \")\n",
    "    i = i + 1"
   ]
  },
  {
   "cell_type": "markdown",
   "id": "440e2938",
   "metadata": {},
   "source": [
    "# Q9) Write a programme for print odd number from 1 to 100"
   ]
  },
  {
   "cell_type": "code",
   "execution_count": null,
   "id": "1611151e",
   "metadata": {},
   "outputs": [],
   "source": [
    "x = int(input(\"Enter a number: \"))\n",
    "i = 1\n",
    "\n",
    "while i <= x:\n",
    "    if i % 2 != 0:\n",
    "        print(i, \" \")\n",
    "    i = i + 1"
   ]
  }
 ],
 "metadata": {
  "kernelspec": {
   "display_name": "Python 3 (ipykernel)",
   "language": "python",
   "name": "python3"
  },
  "language_info": {
   "codemirror_mode": {
    "name": "ipython",
    "version": 3
   },
   "file_extension": ".py",
   "mimetype": "text/x-python",
   "name": "python",
   "nbconvert_exporter": "python",
   "pygments_lexer": "ipython3",
   "version": "3.9.12"
  }
 },
 "nbformat": 4,
 "nbformat_minor": 5
}
