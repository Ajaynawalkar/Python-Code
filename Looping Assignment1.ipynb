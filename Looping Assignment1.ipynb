{
 "cells": [
  {
   "cell_type": "markdown",
   "id": "d3b0f955",
   "metadata": {},
   "source": [
    "### Q1) Write a programme to calculate the Factorial of a number."
   ]
  },
  {
   "cell_type": "code",
   "execution_count": null,
   "id": "9dbd1919",
   "metadata": {},
   "outputs": [],
   "source": [
    "n=int(input('Enter the number'))\n",
    "f=1\n",
    "while n>0:\n",
    "    f=f*n\n",
    "    n=n-1\n",
    "    print(f)"
   ]
  },
  {
   "cell_type": "markdown",
   "id": "d2ffb521",
   "metadata": {},
   "source": [
    "### Q2) Write a programme for print even number from 1 to 100"
   ]
  },
  {
   "cell_type": "code",
   "execution_count": null,
   "id": "dff8f7ae",
   "metadata": {},
   "outputs": [],
   "source": [
    "x = int(input(\"Enter a number: \"))\n",
    "i = 1\n",
    "\n",
    "while i <= x:\n",
    "    if i % 2 == 0:\n",
    "        print(i, \" \")\n",
    "    i = i + 1"
   ]
  },
  {
   "cell_type": "markdown",
   "id": "4853108d",
   "metadata": {},
   "source": [
    "### Q3) Write a programme for print odd number from 1 to 100"
   ]
  },
  {
   "cell_type": "code",
   "execution_count": null,
   "id": "65b8fe5d",
   "metadata": {},
   "outputs": [],
   "source": [
    "x = int(input(\"Enter a number: \"))\n",
    "i = 1\n",
    "\n",
    "while i <= x:\n",
    "    if i % 2 != 0:\n",
    "        print(i, \" \")\n",
    "    i = i + 1"
   ]
  },
  {
   "cell_type": "markdown",
   "id": "fa1b1724",
   "metadata": {},
   "source": [
    "### Q4) Write a programme to check whether the number is Palindrome or not."
   ]
  },
  {
   "cell_type": "code",
   "execution_count": 1,
   "id": "eab69ef8",
   "metadata": {},
   "outputs": [
    {
     "name": "stdout",
     "output_type": "stream",
     "text": [
      "Enter a number121\n",
      "The number is Palindrome\n"
     ]
    }
   ],
   "source": [
    "n=int(input(\"Enter a number\"))\n",
    "t=n\n",
    "r=0\n",
    "while n>0:\n",
    "    d=n%10\n",
    "    r=r*10+d\n",
    "    n=n//10\n",
    "if t==r:\n",
    "    print('The number is Palindrome')\n",
    "else:\n",
    "    print('The number is not Palindrome')"
   ]
  },
  {
   "cell_type": "markdown",
   "id": "79b71a02",
   "metadata": {},
   "source": [
    "### Q5) Write a Programme to find the factor of number."
   ]
  },
  {
   "cell_type": "code",
   "execution_count": 2,
   "id": "e6c37018",
   "metadata": {},
   "outputs": [
    {
     "name": "stdout",
     "output_type": "stream",
     "text": [
      "Enter a number5\n",
      "1\n",
      "5\n",
      "is a Factor of a number\n"
     ]
    }
   ],
   "source": [
    "n=int(input('Enter a number'))\n",
    "i=0\n",
    "count=0\n",
    "for i in range(1, n+1):\n",
    "    if n%i==0:\n",
    "        print(i)\n",
    "        i=i+1\n",
    "        count=count+0\n",
    "print('is a Factor of a number')"
   ]
  },
  {
   "cell_type": "markdown",
   "id": "60dee0f1",
   "metadata": {},
   "source": [
    "### Q6) Write a programme to print a reverse of a number"
   ]
  },
  {
   "cell_type": "code",
   "execution_count": 3,
   "id": "ed4aa9c4",
   "metadata": {},
   "outputs": [
    {
     "name": "stdout",
     "output_type": "stream",
     "text": [
      "Enter a number124\n",
      "421\n"
     ]
    }
   ],
   "source": [
    "n=int(input('Enter a number'))\n",
    "r=0\n",
    "while n>0:\n",
    "    d=n%10\n",
    "    r=r*10+d\n",
    "    n=n//10\n",
    "print(r)"
   ]
  },
  {
   "cell_type": "markdown",
   "id": "ca246939",
   "metadata": {},
   "source": [
    "### Q7) Write a programme to print a sum of a reverese of a number."
   ]
  },
  {
   "cell_type": "code",
   "execution_count": 4,
   "id": "07e223fe",
   "metadata": {},
   "outputs": [
    {
     "name": "stdout",
     "output_type": "stream",
     "text": [
      "Enter a number124\n",
      "Sum of a reverse of a number 7\n"
     ]
    }
   ],
   "source": [
    "n=int(input('Enter a number'))\n",
    "i=1\n",
    "sum=0\n",
    "for i in range(n):\n",
    "    d=n%10\n",
    "    sum=sum+d\n",
    "    n=n//10\n",
    "print('Sum of a reverse of a number', sum)\n",
    "    "
   ]
  },
  {
   "cell_type": "markdown",
   "id": "1697612f",
   "metadata": {},
   "source": [
    "### Q8) Write a programme to check a number is prime or not."
   ]
  },
  {
   "cell_type": "code",
   "execution_count": 5,
   "id": "6f6ca6aa",
   "metadata": {},
   "outputs": [
    {
     "name": "stdout",
     "output_type": "stream",
     "text": [
      "Enter a number7\n",
      "Its a prime number 7\n"
     ]
    }
   ],
   "source": [
    "n=int(input('Enter a number'))\n",
    "c=0\n",
    "for i in range(n//2+1 , 2):\n",
    "        if n%i==0:\n",
    "            c=c+1\n",
    "            break\n",
    "if c==0 and n>1:\n",
    "    print(\"Its a prime number\", n)\n",
    "else:\n",
    "    print(\"Its not a prime number\", n)"
   ]
  },
  {
   "cell_type": "markdown",
   "id": "8af59716",
   "metadata": {},
   "source": [
    "### Q9) Write a programe to print the Cube of all number from 1 to given number."
   ]
  },
  {
   "cell_type": "code",
   "execution_count": 6,
   "id": "f16bede4",
   "metadata": {},
   "outputs": [
    {
     "name": "stdout",
     "output_type": "stream",
     "text": [
      "Enter a number 5\n",
      "Cube is  125\n"
     ]
    }
   ],
   "source": [
    "n = int(input(\"Enter a number \"))\n",
    "for i in range(n):\n",
    "    i=i+1\n",
    "print(\"Cube is \", i*i*i)"
   ]
  },
  {
   "cell_type": "markdown",
   "id": "d5b0ee56",
   "metadata": {},
   "source": [
    "### Q10) write a program to count total number of a digit in number python"
   ]
  },
  {
   "cell_type": "code",
   "execution_count": 7,
   "id": "2ce6a4b5",
   "metadata": {},
   "outputs": [
    {
     "name": "stdout",
     "output_type": "stream",
     "text": [
      "Enter a number45\n",
      "The number of digit in the number is  2\n"
     ]
    }
   ],
   "source": [
    "n=int(input('Enter a number'))\n",
    "count=0\n",
    "while n>0:\n",
    "    count=count+1\n",
    "    n=n//10\n",
    "print('The number of digit in the number is ', count)"
   ]
  },
  {
   "cell_type": "code",
   "execution_count": null,
   "id": "7152b194",
   "metadata": {},
   "outputs": [],
   "source": []
  }
 ],
 "metadata": {
  "kernelspec": {
   "display_name": "Python 3 (ipykernel)",
   "language": "python",
   "name": "python3"
  },
  "language_info": {
   "codemirror_mode": {
    "name": "ipython",
    "version": 3
   },
   "file_extension": ".py",
   "mimetype": "text/x-python",
   "name": "python",
   "nbconvert_exporter": "python",
   "pygments_lexer": "ipython3",
   "version": "3.9.12"
  }
 },
 "nbformat": 4,
 "nbformat_minor": 5
}
