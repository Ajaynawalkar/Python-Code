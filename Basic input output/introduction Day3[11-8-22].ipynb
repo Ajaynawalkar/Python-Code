{
 "cells": [
  {
   "cell_type": "markdown",
   "id": "e84b7fe6",
   "metadata": {},
   "source": [
    "# Introductin of Yourself"
   ]
  },
  {
   "cell_type": "code",
   "execution_count": null,
   "id": "af4e654f",
   "metadata": {},
   "outputs": [],
   "source": [
    "name=\"Ajay\"\n",
    "print(\"Name\", name)"
   ]
  },
  {
   "cell_type": "code",
   "execution_count": null,
   "id": "578c9631",
   "metadata": {},
   "outputs": [],
   "source": []
  },
  {
   "cell_type": "markdown",
   "id": "812a1f70",
   "metadata": {},
   "source": [
    "# Addition"
   ]
  },
  {
   "cell_type": "code",
   "execution_count": null,
   "id": "2995f601",
   "metadata": {},
   "outputs": [],
   "source": [
    "x=int(input(\"Enter\"))\n",
    "y=int(input(\"Enter\"))\n",
    "z=x+y\n",
    "print(\"Addition\", z)"
   ]
  },
  {
   "cell_type": "markdown",
   "id": "0052346c",
   "metadata": {},
   "source": [
    "# Substraction"
   ]
  },
  {
   "cell_type": "code",
   "execution_count": null,
   "id": "5d0c9f24",
   "metadata": {},
   "outputs": [],
   "source": [
    "x=int(input(\"Enter\"))\n",
    "y=int(input(\"Enter\"))\n",
    "z=x-y\n",
    "print(\"Substraction\", z)"
   ]
  },
  {
   "cell_type": "markdown",
   "id": "7367be7a",
   "metadata": {},
   "source": [
    "# Multiplication"
   ]
  },
  {
   "cell_type": "code",
   "execution_count": null,
   "id": "c2526b61",
   "metadata": {},
   "outputs": [],
   "source": [
    "x=int(input(\"Enter\"))\n",
    "y=int(input(\"Enter\"))\n",
    "z=x*y\n",
    "print(\"Multiplication\", z)"
   ]
  },
  {
   "cell_type": "code",
   "execution_count": null,
   "id": "3ca991d3",
   "metadata": {},
   "outputs": [],
   "source": [
    "x=int(input(\"Enter\"))\n",
    "y=int(input(\"Enter\"))\n",
    "z=x/y\n",
    "print(\"Division\", z)"
   ]
  },
  {
   "cell_type": "markdown",
   "id": "36dfd7b5",
   "metadata": {},
   "source": [
    "# Modulus"
   ]
  },
  {
   "cell_type": "code",
   "execution_count": null,
   "id": "0d33f782",
   "metadata": {},
   "outputs": [],
   "source": [
    "x=int(input(\"Enter\"))\n",
    "y=int(input(\"Enter\"))\n",
    "z=x%y\n",
    "print(\"Modulus\", z)"
   ]
  },
  {
   "cell_type": "markdown",
   "id": "84cd4f4d",
   "metadata": {},
   "source": [
    "# Exponent"
   ]
  },
  {
   "cell_type": "code",
   "execution_count": null,
   "id": "6e3bfbd6",
   "metadata": {},
   "outputs": [],
   "source": [
    "x=int(input(\"Enter\"))\n",
    "y=int(input(\"Enter\"))\n",
    "z=x**y\n",
    "print(\"Exponent\", z)"
   ]
  },
  {
   "cell_type": "code",
   "execution_count": null,
   "id": "0d5b9a97",
   "metadata": {},
   "outputs": [],
   "source": [
    "#use of operator in conditional statement\n",
    "a=int(input(\"first\"))\n",
    "b=int(input(\"Second\"))\n",
    "if a==b:\n",
    "     print(\"both are equal\")"
   ]
  },
  {
   "cell_type": "code",
   "execution_count": null,
   "id": "33156ba6",
   "metadata": {},
   "outputs": [],
   "source": [
    "a=int(input(\"first\"))\n",
    "b=int(input(\"Second\"))\n",
    "if a==b:\n",
    "     print(\"both are equal\")\n",
    "else:\n",
    "     print(\"both are unequal\")"
   ]
  },
  {
   "cell_type": "code",
   "execution_count": null,
   "id": "71f1abe6",
   "metadata": {},
   "outputs": [],
   "source": [
    "m=\"my name is Ajay\"\n",
    "print(\"is\" in m)"
   ]
  },
  {
   "cell_type": "code",
   "execution_count": null,
   "id": "8cfd81ed",
   "metadata": {},
   "outputs": [],
   "source": [
    "m=\"my name is Ajay\"\n",
    "print(\"it\" in m)\n"
   ]
  },
  {
   "cell_type": "code",
   "execution_count": null,
   "id": "50621631",
   "metadata": {},
   "outputs": [],
   "source": [
    "m=\"my name is Ajay\"\n",
    "print(\"it\" not in m)"
   ]
  },
  {
   "cell_type": "code",
   "execution_count": null,
   "id": "20b53911",
   "metadata": {},
   "outputs": [],
   "source": [
    "m=\"my name is Ajay\"\n",
    "print(\"is\" not in m)"
   ]
  },
  {
   "cell_type": "markdown",
   "id": "9a2b505a",
   "metadata": {},
   "source": [
    "# Student Pass or Fail"
   ]
  },
  {
   "cell_type": "code",
   "execution_count": null,
   "id": "e6b0a532",
   "metadata": {},
   "outputs": [],
   "source": [
    "Percent = int(input(\"Enter Percent of student \"))\n",
    "if Percent>42:\n",
    "    print(\"Student is Pass \")\n",
    "else:\n",
    "    print(\"Student is Fail\")"
   ]
  },
  {
   "cell_type": "markdown",
   "id": "03368aa5",
   "metadata": {},
   "source": [
    "# Person Eligible to Vote"
   ]
  },
  {
   "cell_type": "code",
   "execution_count": null,
   "id": "e47ef13c",
   "metadata": {},
   "outputs": [],
   "source": [
    "Eligibility = int(input(\"Enter Person Age\"))\n",
    "if Eligibility<22:\n",
    "    print(\"Person is Eligible to Vote\")\n",
    "else:\n",
    "    print(\"Person is not Eligible\")"
   ]
  },
  {
   "cell_type": "markdown",
   "id": "9cb9fc6e",
   "metadata": {},
   "source": [
    "# Enter two number and print greatest"
   ]
  },
  {
   "cell_type": "code",
   "execution_count": null,
   "id": "6209454a",
   "metadata": {},
   "outputs": [],
   "source": [
    "a = int(input(\" Enter the First number \"))\n",
    "b = int(input(\" Enter the Second number \"))\n",
    "if a>b:\n",
    "    print(\"a is greater,\", a)\n",
    "else:\n",
    "    print(\"b is greater,\", b)"
   ]
  },
  {
   "cell_type": "markdown",
   "id": "3e377ced",
   "metadata": {},
   "source": [
    "# print Smallest"
   ]
  },
  {
   "cell_type": "code",
   "execution_count": null,
   "id": "af22198c",
   "metadata": {},
   "outputs": [],
   "source": [
    "a = int(input(\"Enter num1 \"))\n",
    "b = int(input(\"Enter num2 \"))\n",
    "if a<b:\n",
    "    print(\"a is smaller,\", a)\n",
    "else:\n",
    "    print(\"b is smaller,\", b)"
   ]
  },
  {
   "cell_type": "markdown",
   "id": "426856da",
   "metadata": {},
   "source": [
    "# Even or Not"
   ]
  },
  {
   "cell_type": "code",
   "execution_count": null,
   "id": "2be14464",
   "metadata": {},
   "outputs": [],
   "source": [
    "Even = int(input(\"Enter the Number\"))\n",
    "if Even/2:\n",
    "    print(\"Num is Even\")\n",
    "else:\n",
    "    print(\"Num is Odd\")"
   ]
  },
  {
   "cell_type": "markdown",
   "id": "09673012",
   "metadata": {},
   "source": [
    "# Assignment Operator"
   ]
  },
  {
   "cell_type": "code",
   "execution_count": 1,
   "id": "2c4bbc87",
   "metadata": {},
   "outputs": [
    {
     "name": "stdout",
     "output_type": "stream",
     "text": [
      "12020\n",
      "10020\n",
      "200020\n",
      "100.020\n",
      "5.020\n",
      "95367431640625.020\n"
     ]
    },
    {
     "data": {
      "text/plain": [
       "'20'"
      ]
     },
     "execution_count": 1,
     "metadata": {},
     "output_type": "execute_result"
    }
   ],
   "source": [
    "x=100\n",
    "x+=20\n",
    "input(x)\n",
    "x-=20\n",
    "input(x)\n",
    "x*=20\n",
    "input(x)\n",
    "x/=20\n",
    "input(x)\n",
    "x//=20\n",
    "input(x)\n",
    "x**=20\n",
    "input(x)"
   ]
  },
  {
   "cell_type": "code",
   "execution_count": null,
   "id": "854222ab",
   "metadata": {},
   "outputs": [],
   "source": []
  }
 ],
 "metadata": {
  "kernelspec": {
   "display_name": "Python 3 (ipykernel)",
   "language": "python",
   "name": "python3"
  },
  "language_info": {
   "codemirror_mode": {
    "name": "ipython",
    "version": 3
   },
   "file_extension": ".py",
   "mimetype": "text/x-python",
   "name": "python",
   "nbconvert_exporter": "python",
   "pygments_lexer": "ipython3",
   "version": "3.9.12"
  }
 },
 "nbformat": 4,
 "nbformat_minor": 5
}
