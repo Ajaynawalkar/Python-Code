{
 "cells": [
  {
   "cell_type": "markdown",
   "id": "e2964bd2",
   "metadata": {},
   "source": [
    "# Introductin of Yourself"
   ]
  },
  {
   "cell_type": "code",
   "execution_count": 1,
   "id": "c2e9cc2c",
   "metadata": {},
   "outputs": [
    {
     "name": "stdout",
     "output_type": "stream",
     "text": [
      "Name Ajay\n"
     ]
    }
   ],
   "source": [
    "name=\"Ajay\"\n",
    "print(\"Name\", name)"
   ]
  },
  {
   "cell_type": "code",
   "execution_count": null,
   "id": "e46bdfa9",
   "metadata": {},
   "outputs": [],
   "source": []
  },
  {
   "cell_type": "markdown",
   "id": "c7a0f084",
   "metadata": {},
   "source": [
    "# Addition"
   ]
  },
  {
   "cell_type": "code",
   "execution_count": 3,
   "id": "342bca6b",
   "metadata": {},
   "outputs": [
    {
     "name": "stdout",
     "output_type": "stream",
     "text": [
      "Enter5\n",
      "Enter7\n",
      "Addition 12\n"
     ]
    }
   ],
   "source": [
    "x=int(input(\"Enter\"))\n",
    "y=int(input(\"Enter\"))\n",
    "z=x+y\n",
    "print(\"Addition\", z)"
   ]
  },
  {
   "cell_type": "markdown",
   "id": "0c364488",
   "metadata": {},
   "source": [
    "# Substraction"
   ]
  },
  {
   "cell_type": "code",
   "execution_count": 4,
   "id": "ca4b8b2e",
   "metadata": {},
   "outputs": [
    {
     "name": "stdout",
     "output_type": "stream",
     "text": [
      "Enter10\n",
      "Enter5\n",
      "Substraction 5\n"
     ]
    }
   ],
   "source": [
    "x=int(input(\"Enter\"))\n",
    "y=int(input(\"Enter\"))\n",
    "z=x-y\n",
    "print(\"Substraction\", z)"
   ]
  },
  {
   "cell_type": "markdown",
   "id": "719fa41d",
   "metadata": {},
   "source": [
    "# Multiplication"
   ]
  },
  {
   "cell_type": "code",
   "execution_count": 5,
   "id": "5c51d21b",
   "metadata": {},
   "outputs": [
    {
     "name": "stdout",
     "output_type": "stream",
     "text": [
      "Enter8\n",
      "Enter7\n",
      "Multiplication 56\n"
     ]
    }
   ],
   "source": [
    "x=int(input(\"Enter\"))\n",
    "y=int(input(\"Enter\"))\n",
    "z=x*y\n",
    "print(\"Multiplication\", z)"
   ]
  },
  {
   "cell_type": "code",
   "execution_count": 7,
   "id": "c2e235ed",
   "metadata": {},
   "outputs": [
    {
     "name": "stdout",
     "output_type": "stream",
     "text": [
      "Enter12\n",
      "Enter2\n",
      "Division 6.0\n"
     ]
    }
   ],
   "source": [
    "x=int(input(\"Enter\"))\n",
    "y=int(input(\"Enter\"))\n",
    "z=x/y\n",
    "print(\"Division\", z)"
   ]
  },
  {
   "cell_type": "markdown",
   "id": "82fc81e0",
   "metadata": {},
   "source": [
    "# Modulus"
   ]
  },
  {
   "cell_type": "code",
   "execution_count": 9,
   "id": "f9c07d2f",
   "metadata": {},
   "outputs": [
    {
     "name": "stdout",
     "output_type": "stream",
     "text": [
      "Enter12\n",
      "Enter5\n",
      "Modulus 2\n"
     ]
    }
   ],
   "source": [
    "x=int(input(\"Enter\"))\n",
    "y=int(input(\"Enter\"))\n",
    "z=x%y\n",
    "print(\"Modulus\", z)"
   ]
  },
  {
   "cell_type": "markdown",
   "id": "43c12c0f",
   "metadata": {},
   "source": [
    "# Exponent"
   ]
  },
  {
   "cell_type": "code",
   "execution_count": 10,
   "id": "ff43503d",
   "metadata": {},
   "outputs": [
    {
     "name": "stdout",
     "output_type": "stream",
     "text": [
      "Enter8\n",
      "Enter2\n",
      "Exponent 64\n"
     ]
    }
   ],
   "source": [
    "x=int(input(\"Enter\"))\n",
    "y=int(input(\"Enter\"))\n",
    "z=x**y\n",
    "print(\"Exponent\", z)"
   ]
  },
  {
   "cell_type": "code",
   "execution_count": 16,
   "id": "149d6f9f",
   "metadata": {},
   "outputs": [
    {
     "name": "stdout",
     "output_type": "stream",
     "text": [
      "first4\n",
      "Second4\n",
      "both are equal\n"
     ]
    }
   ],
   "source": [
    "#use of operator in conditional statement\n",
    "a=int(input(\"first\"))\n",
    "b=int(input(\"Second\"))\n",
    "if a==b:\n",
    "     print(\"both are equal\")"
   ]
  }
 ],
 "metadata": {
  "kernelspec": {
   "display_name": "Python 3 (ipykernel)",
   "language": "python",
   "name": "python3"
  },
  "language_info": {
   "codemirror_mode": {
    "name": "ipython",
    "version": 3
   },
   "file_extension": ".py",
   "mimetype": "text/x-python",
   "name": "python",
   "nbconvert_exporter": "python",
   "pygments_lexer": "ipython3",
   "version": "3.9.12"
  }
 },
 "nbformat": 4,
 "nbformat_minor": 5
}
