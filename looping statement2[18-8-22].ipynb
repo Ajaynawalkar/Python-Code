{
 "cells": [
  {
   "cell_type": "markdown",
   "id": "fcc8ed09",
   "metadata": {},
   "source": [
    "# looping statement 2"
   ]
  },
  {
   "cell_type": "markdown",
   "id": "0cd8a59f",
   "metadata": {},
   "source": [
    "# Q1) Write a programme to check whether the number is Palindrome or not."
   ]
  },
  {
   "cell_type": "code",
   "execution_count": null,
   "id": "824d0750",
   "metadata": {},
   "outputs": [],
   "source": [
    "n=int(input(\"Enter a number\"))\n",
    "t=n\n",
    "r=0\n",
    "while n>0:\n",
    "    d=n%10\n",
    "    r=r*10+d\n",
    "    n=n//10\n",
    "if t==r:\n",
    "    print('The number is Palindrome')\n",
    "else:\n",
    "    print('The number is not Palindrome')"
   ]
  },
  {
   "cell_type": "markdown",
   "id": "3310243b",
   "metadata": {},
   "source": [
    "# Q2) Write a Programme to find the factor of number."
   ]
  },
  {
   "cell_type": "code",
   "execution_count": null,
   "id": "de10c34c",
   "metadata": {},
   "outputs": [],
   "source": [
    "n=int(input('Enter a number'))\n",
    "i=0\n",
    "count=0\n",
    "for i in range(1, n+1):\n",
    "    if n%i==0:\n",
    "        print(i)\n",
    "        i=i+1\n",
    "        count=count+0\n",
    "print('is a Factor of a number')"
   ]
  },
  {
   "cell_type": "markdown",
   "id": "5f62316c",
   "metadata": {},
   "source": [
    "# Q3) Write a programme to print a reverse of a number"
   ]
  },
  {
   "cell_type": "code",
   "execution_count": null,
   "id": "9aa33dbb",
   "metadata": {},
   "outputs": [],
   "source": [
    "n=int(input('Enter a number'))\n",
    "r=0\n",
    "while n>0:\n",
    "    d=n%10\n",
    "    r=r*10+d\n",
    "    n=n//10\n",
    "print(r)"
   ]
  },
  {
   "cell_type": "markdown",
   "id": "41dcddad",
   "metadata": {},
   "source": [
    "# Q4) Write a programme to print a sum of a reverese of a number."
   ]
  },
  {
   "cell_type": "code",
   "execution_count": null,
   "id": "b3eda49a",
   "metadata": {},
   "outputs": [],
   "source": [
    "n=int(input('Enter a number'))\n",
    "i=1\n",
    "sum=0\n",
    "for i in range(n):\n",
    "    d=n%10\n",
    "    sum=sum+d\n",
    "    n=n//10\n",
    "print('Sum of a reverse of a number', sum)\n",
    "    "
   ]
  },
  {
   "cell_type": "markdown",
   "id": "52903aa5",
   "metadata": {},
   "source": [
    "# Q5) Write a programme to check a number is prime or not."
   ]
  },
  {
   "cell_type": "code",
   "execution_count": null,
   "id": "c2e17db4",
   "metadata": {},
   "outputs": [],
   "source": [
    "n=int(input('Enter a number'))\n",
    "c=0\n",
    "for i in range(n//2+1 , 2):\n",
    "        if n%i==0:\n",
    "            c=c+1\n",
    "            break\n",
    "if c==0 and n>1:\n",
    "    print(\"Its a prime number\", n)\n",
    "else:\n",
    "    print(\"Its not a prime number\", n)"
   ]
  },
  {
   "cell_type": "markdown",
   "id": "8da4c931",
   "metadata": {},
   "source": [
    "# Q6) Write a programme to prime number between 1 to 100."
   ]
  },
  {
   "cell_type": "code",
   "execution_count": 1,
   "id": "20b21a79",
   "metadata": {},
   "outputs": [
    {
     "name": "stdout",
     "output_type": "stream",
     "text": [
      " Please Enter the Minimum Value: 1\n",
      " Please Enter the Maximum Value: 120\n",
      " 2   \n",
      " 3   \n",
      " 5   \n",
      " 7   \n",
      " 11   \n",
      " 13   \n",
      " 17   \n",
      " 19   \n",
      " 23   \n",
      " 29   \n",
      " 31   \n",
      " 37   \n",
      " 41   \n",
      " 43   \n",
      " 47   \n",
      " 53   \n",
      " 59   \n",
      " 61   \n",
      " 67   \n",
      " 71   \n",
      " 73   \n",
      " 79   \n",
      " 83   \n",
      " 89   \n",
      " 97   \n",
      " 101   \n",
      " 103   \n",
      " 107   \n",
      " 109   \n",
      " 113   \n"
     ]
    }
   ],
   "source": [
    "min = int(input(\" Please Enter the Minimum Value: \"))\n",
    "max = int(input(\" Please Enter the Maximum Value: \"))\n",
    "\n",
    "for N in range (min, max + 1):\n",
    "    count = 0\n",
    "    for i in range(2, (N//2 + 1)):\n",
    "        if(N % i == 0):\n",
    "            count = count + 1\n",
    "            break\n",
    "\n",
    "    if (count == 0 and N > 1):\n",
    "        print(\" %d\" %N,  '  ')"
   ]
  },
  {
   "cell_type": "markdown",
   "id": "4bed1fba",
   "metadata": {},
   "source": [
    "# Q7) Write a programe to print the Cube of all number from 1 to given number."
   ]
  },
  {
   "cell_type": "code",
   "execution_count": null,
   "id": "96e899b9",
   "metadata": {},
   "outputs": [],
   "source": [
    "n = int(input(\"Enter a number \"))\n",
    "for i in range(n):\n",
    "    i=i+1\n",
    "print(\"Cube is \", i*i*i)"
   ]
  },
  {
   "cell_type": "code",
   "execution_count": null,
   "id": "6b598d7a",
   "metadata": {},
   "outputs": [],
   "source": []
  }
 ],
 "metadata": {
  "kernelspec": {
   "display_name": "Python 3 (ipykernel)",
   "language": "python",
   "name": "python3"
  },
  "language_info": {
   "codemirror_mode": {
    "name": "ipython",
    "version": 3
   },
   "file_extension": ".py",
   "mimetype": "text/x-python",
   "name": "python",
   "nbconvert_exporter": "python",
   "pygments_lexer": "ipython3",
   "version": "3.9.12"
  }
 },
 "nbformat": 4,
 "nbformat_minor": 5
}
