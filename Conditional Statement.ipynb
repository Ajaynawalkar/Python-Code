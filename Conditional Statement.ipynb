{
 "cells": [
  {
   "cell_type": "markdown",
   "id": "f7707e1e",
   "metadata": {},
   "source": [
    "# Conditonal Statement"
   ]
  },
  {
   "cell_type": "code",
   "execution_count": 4,
   "id": "4b9f48dc",
   "metadata": {},
   "outputs": [
    {
     "name": "stdout",
     "output_type": "stream",
     "text": [
      "Enter the Age22\n",
      "Voter is Eligible\n"
     ]
    }
   ],
   "source": [
    "Eligible = int(input(\"Enter the Age\"))\n",
    "if Eligible>18:\n",
    "    print(\"Voter is Eligible\")\n",
    "else:\n",
    "    print(\"vote is Declined\")"
   ]
  },
  {
   "cell_type": "code",
   "execution_count": 11,
   "id": "efea7780",
   "metadata": {},
   "outputs": [
    {
     "name": "stdout",
     "output_type": "stream",
     "text": [
      "Enter the Charachter: i\n",
      "Charachter is Vowel\n"
     ]
    }
   ],
   "source": [
    "x = input(\"Enter the Charachter: \")\n",
    "if(x=='A' or x=='a' or x=='O' or x=='o' or x=='i' or x=='I' or x=='i' or x=='U' or x=='u'):\n",
    "    print(\"Charachter is Vowel\")\n",
    "else:\n",
    "    print(\"Charachter is Consonent\")"
   ]
  },
  {
   "cell_type": "code",
   "execution_count": 13,
   "id": "a8db1db7",
   "metadata": {},
   "outputs": [
    {
     "name": "stdout",
     "output_type": "stream",
     "text": [
      "Enter a 5\n",
      "Enter b 9\n",
      "Enter c 2\n",
      "Quadratic Equation is  41\n"
     ]
    }
   ],
   "source": [
    "a=int(input(\"Enter a \"))\n",
    "b=int(input(\"Enter b \"))\n",
    "c=int(input(\"Enter c \"))\n",
    "d=b*b-4*a*c\n",
    "print(\"Quadratic Equation is \", d)"
   ]
  },
  {
   "cell_type": "code",
   "execution_count": 14,
   "id": "14ba195c",
   "metadata": {},
   "outputs": [
    {
     "name": "stdout",
     "output_type": "stream",
     "text": [
      "enter the Base 4\n",
      "enter the Height5\n",
      "Area of Triangle 10.0\n"
     ]
    }
   ],
   "source": [
    "a=int(input(\"enter the Base \"))\n",
    "b=int(input(\"enter the Height\"))\n",
    "c=0.5*a*b\n",
    "print(\"Area of Triangle\", c)"
   ]
  },
  {
   "cell_type": "code",
   "execution_count": 17,
   "id": "fd6f4d3f",
   "metadata": {},
   "outputs": [
    {
     "name": "stdout",
     "output_type": "stream",
     "text": [
      "Enter the radius :4\n",
      "Area of Circle 50.285714285714285\n"
     ]
    }
   ],
   "source": [
    "r=int(input(\"Enter the radius :\"))\n",
    "A=22/7*r*r\n",
    "print(\"Area of Circle\", A)"
   ]
  },
  {
   "cell_type": "code",
   "execution_count": 19,
   "id": "702d0d58",
   "metadata": {},
   "outputs": [
    {
     "name": "stdout",
     "output_type": "stream",
     "text": [
      "Enter the Side4\n",
      "Area of Square:  16\n"
     ]
    }
   ],
   "source": [
    "s=int(input(\"Enter the Side\"))\n",
    "A=s*s\n",
    "print(\"Area of Square: \", A)"
   ]
  },
  {
   "cell_type": "code",
   "execution_count": 30,
   "id": "642d5a67",
   "metadata": {},
   "outputs": [
    {
     "name": "stdout",
     "output_type": "stream",
     "text": [
      "enter the Lenght 4.53\n",
      "enter the Width 12.639\n",
      "Area of Rectangle:  57.25467\n"
     ]
    }
   ],
   "source": [
    "a=float(input(\"enter the Lenght \"))\n",
    "b=float(input(\"enter the Width \"))\n",
    "c=a*b\n",
    "print(\"Area of Rectangle: \", c)"
   ]
  },
  {
   "cell_type": "code",
   "execution_count": 27,
   "id": "c3ca8baf",
   "metadata": {},
   "outputs": [
    {
     "name": "stdout",
     "output_type": "stream",
     "text": [
      "Enter the Basic Salary 15000\n",
      "Net Salary is  16350.0\n"
     ]
    }
   ],
   "source": [
    "basic_salary=int(input(\"Enter the Basic Salary \"))\n",
    "HRA=basic_salary*0.07\n",
    "DA=basic_salary*0.05\n",
    "PF=basic_salary*0.03\n",
    "net_salary=(basic_salary+HRA+DA-PF)\n",
    "print(\"Net Salary is \", net_salary)"
   ]
  },
  {
   "cell_type": "code",
   "execution_count": 28,
   "id": "6e2a9d16",
   "metadata": {},
   "outputs": [
    {
     "name": "stdout",
     "output_type": "stream",
     "text": [
      "Enter the Value3\n",
      "Number is Odd\n"
     ]
    }
   ],
   "source": [
    "x=int(input(\"Enter the Value\"))\n",
    "if(x%2==0):\n",
    "    print(\"Number is Even\")\n",
    "else:\n",
    "    print(\"Number is Odd\")"
   ]
  },
  {
   "cell_type": "code",
   "execution_count": 37,
   "id": "8b76b975",
   "metadata": {},
   "outputs": [
    {
     "name": "stdout",
     "output_type": "stream",
     "text": [
      "Enter the Value - 7\n",
      "Postive\n"
     ]
    }
   ],
   "source": [
    "x=float(input(\"Enter the Value - \"))\n",
    "if x>0:\n",
    "    print(\"Postive\")\n",
    "elif x==0:\n",
    "    print(\"zero\")\n",
    "else:\n",
    "    print(\"negative\")"
   ]
  },
  {
   "cell_type": "code",
   "execution_count": 39,
   "id": "40660f07",
   "metadata": {},
   "outputs": [
    {
     "name": "stdout",
     "output_type": "stream",
     "text": [
      "Enter the Number of Days 366\n",
      "Year is Leap\n"
     ]
    }
   ],
   "source": [
    "x=int(input(\"Enter the Number of Days \"))\n",
    "if x==366:\n",
    "    print(\"Year is Leap\")\n",
    "else:\n",
    "    print(\"Not a Leap Year\")"
   ]
  },
  {
   "cell_type": "code",
   "execution_count": 40,
   "id": "ce4dd582",
   "metadata": {},
   "outputs": [
    {
     "name": "stdout",
     "output_type": "stream",
     "text": [
      "Enter the Cost Price 78\n",
      "Enter the Selling Price98\n",
      "Profit\n"
     ]
    }
   ],
   "source": [
    "CP = int(input(\"Enter the Cost Price \"))\n",
    "SP = int(input(\"Enter the Selling Price\"))\n",
    "if CP<SP:\n",
    "    print(\"Profit\")\n",
    "elif CP>SP:\n",
    "    print(\"Loss\")\n",
    "else:\n",
    "    print(\"No Loss No Profit\")"
   ]
  },
  {
   "cell_type": "code",
   "execution_count": 41,
   "id": "cdff410c",
   "metadata": {},
   "outputs": [
    {
     "name": "stdout",
     "output_type": "stream",
     "text": [
      "Enter First Side5\n",
      "Enter Second Side4\n",
      "Enter third Side6\n",
      "Triangle is Scalene \n"
     ]
    }
   ],
   "source": [
    "a=int(input(\"Enter First Side\"))\n",
    "b=int(input(\"Enter Second Side\"))\n",
    "c=int(input(\"Enter third Side\"))\n",
    "if ((a==b) and (b==c) and (a==c)):\n",
    "    print(\"Triangle is Equilateral\")\n",
    "elif (a!=b and b!=c and c!=a):\n",
    "    print(\"Triangle is Scalene \")\n",
    "else:\n",
    "    print(\"Triangle is Isoceles\")"
   ]
  },
  {
   "cell_type": "code",
   "execution_count": null,
   "id": "d5107b58",
   "metadata": {},
   "outputs": [],
   "source": []
  }
 ],
 "metadata": {
  "kernelspec": {
   "display_name": "Python 3 (ipykernel)",
   "language": "python",
   "name": "python3"
  },
  "language_info": {
   "codemirror_mode": {
    "name": "ipython",
    "version": 3
   },
   "file_extension": ".py",
   "mimetype": "text/x-python",
   "name": "python",
   "nbconvert_exporter": "python",
   "pygments_lexer": "ipython3",
   "version": "3.9.12"
  }
 },
 "nbformat": 4,
 "nbformat_minor": 5
}
